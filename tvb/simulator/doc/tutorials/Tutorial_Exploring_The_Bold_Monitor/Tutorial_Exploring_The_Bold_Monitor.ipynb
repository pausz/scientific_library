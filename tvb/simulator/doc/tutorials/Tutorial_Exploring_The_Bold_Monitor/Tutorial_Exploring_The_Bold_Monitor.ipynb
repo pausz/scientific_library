{
 "metadata": {
  "name": ""
 },
 "nbformat": 3,
 "nbformat_minor": 0,
 "worksheets": [
  {
   "cells": [
    {
     "cell_type": "markdown",
     "metadata": {},
     "source": [
      "Tutorial: Exploring The Bold Monitor\n",
      "==============================================================="
     ]
    },
    {
     "cell_type": "markdown",
     "metadata": {},
     "source": [
      "This tutorial explores the different functions used that model the haemodynamic response function (HRF) to compute the BOLD (Blood Oxygenation Level Dependent) signal. \n",
      "TVB uses simplified HRFs represented by either a Gamma function, a difference of exponential functions or the first Volterra kernel as presented in the work of Friston et al. (2000). \n",
      "These HRFs are shown below.\n",
      "\n",
      "\n",
      "Setup\n",
      "-----\n",
      "\n",
      "Since we are not going to perform a simulation, we'll only import TVB monitors to access the parameters of TVB's Bold monitor: "
     ]
    },
    {
     "cell_type": "code",
     "collapsed": false,
     "input": [
      "from tvb.simulator import monitors"
     ],
     "language": "python",
     "metadata": {},
     "outputs": [
      {
       "output_type": "stream",
       "stream": "stdout",
       "text": [
        "2013-08-28 17:50:28,775 - WARNING - tvb.basic.traits.data_readers - Could not read data for field orientations on instance of class MetaType\n",
        "list index out of range\n"
       ]
      },
      {
       "output_type": "stream",
       "stream": "stdout",
       "text": [
        "2013-08-28 17:50:30,108 - WARNING - tvb.basic.traits.data_readers - Could not read data for field orientations on instance of class MetaType\n",
        "list index out of range\n"
       ]
      },
      {
       "output_type": "stream",
       "stream": "stdout",
       "text": [
        "2013-08-28 17:50:50,659 - WARNING - tvb.basic.traits.data_readers - Could not read data for field orientations on instance of class MetaType\n",
        "list index out of range\n"
       ]
      },
      {
       "output_type": "stream",
       "stream": "stdout",
       "text": [
        "2013-08-28 17:50:50,714 - WARNING - tvb.basic.traits.data_readers - Could not read data for field orientations on instance of class MetaType\n",
        "list index out of range\n"
       ]
      }
     ],
     "prompt_number": 1
    },
    {
     "cell_type": "markdown",
     "metadata": {},
     "source": [
      "We also need some plotting utilities:"
     ]
    },
    {
     "cell_type": "code",
     "collapsed": true,
     "input": [
      "from pylab import *"
     ],
     "language": "python",
     "metadata": {},
     "outputs": [],
     "prompt_number": 2
    },
    {
     "cell_type": "markdown",
     "metadata": {},
     "source": [
      "*Bold Monitor*\n",
      "--------\n",
      "\n",
      "\n",
      "\n",
      "Let's start creating an instance of the Bold monitor with its default parameters:"
     ]
    },
    {
     "cell_type": "code",
     "collapsed": false,
     "input": [
      "bold = monitors.Bold()"
     ],
     "language": "python",
     "metadata": {},
     "outputs": [
      {
       "output_type": "stream",
       "stream": "stdout",
       "text": [
        "2013-08-28 17:51:00,939 - INFO - tvb.simulator.common - Bold(hrf_kernel, period, hrf_length, variables_of_interest): initing...\n"
       ]
      },
      {
       "output_type": "stream",
       "stream": "stdout",
       "text": [
        "2013-08-28 17:51:00,939 - WARNING - tvb.simulator.common - Bold(hrf_kernel=HRFKernelEquation(bound=True, value=FirstOrderVolterra(bound=False, value=None), name='hrf_kernel'), period=None, hrf_length=None, variables_of_interest=None): Needs testing, debugging, etc...\n"
       ]
      }
     ],
     "prompt_number": 4
    },
    {
     "cell_type": "markdown",
     "metadata": {},
     "source": [
      "In general, the sampling period of a monitor is in milliseconds and must be an integral multiple of the integration-step size used in a simulation. Therefore, monitors need to know the integration time step (*dt*) because some data reduction mechanims (eg, downsampling to the monitor's sampling period) depend on it. An easy way to achieve this is:"
     ]
    },
    {
     "cell_type": "code",
     "collapsed": true,
     "input": [
      "bold.dt = 2**-4 # Default value used in the scripts found at tvb/simulator/demos"
     ],
     "language": "python",
     "metadata": {},
     "outputs": [],
     "prompt_number": 5
    },
    {
     "cell_type": "markdown",
     "metadata": {},
     "source": [
      "Since HRFs are TVB Equation datatypes, you can explore their attributes:"
     ]
    },
    {
     "cell_type": "code",
     "collapsed": false,
     "input": [
      "bold.hrf_kernel"
     ],
     "language": "python",
     "metadata": {},
     "outputs": [
      {
       "metadata": {},
       "output_type": "pyout",
       "prompt_number": 6,
       "text": [
        "FirstOrderVolterra(bound=False, value=None)"
       ]
      }
     ],
     "prompt_number": 6
    },
    {
     "cell_type": "markdown",
     "metadata": {},
     "source": [
      "* see the equation itself,"
     ]
    },
    {
     "cell_type": "code",
     "collapsed": false,
     "input": [
      "bold.hrf_kernel.equation"
     ],
     "language": "python",
     "metadata": {},
     "outputs": [
      {
       "metadata": {},
       "output_type": "pyout",
       "prompt_number": 7,
       "text": [
        "'1/3. * exp(-0.5*(var / tau_s)) * (sin(sqrt(1./tau_f - 1./(4.*tau_s**2)) * var)) / (sqrt(1./tau_f - 1./(4.*tau_s**2)))'"
       ]
      }
     ],
     "prompt_number": 7
    },
    {
     "cell_type": "markdown",
     "metadata": {},
     "source": [
      "* or check the function parameters,"
     ]
    },
    {
     "cell_type": "code",
     "collapsed": false,
     "input": [
      "bold.hrf_kernel.parameters"
     ],
     "language": "python",
     "metadata": {},
     "outputs": [
      {
       "metadata": {},
       "output_type": "pyout",
       "prompt_number": 8,
       "text": [
        "{'V_0': 0.02, 'k_1': 5.6, 'tau_f': 0.4, 'tau_s': 0.8}"
       ]
      }
     ],
     "prompt_number": 8
    },
    {
     "cell_type": "markdown",
     "metadata": {},
     "source": [
      "The shape of this function depends on the following parameters: \n",
      "\n",
      "1. $\\tau_s$, rate constant of signal decay;\n",
      "2. $\\tau_f$, rate constant of feedback regulation;\n",
      "\n",
      "* $V_0$ and $k_1$ are parameters used in the monitor to scale the amplitude of the response. See [1]. "
     ]
    },
    {
     "cell_type": "markdown",
     "metadata": {},
     "source": [
      "Let's have a look at the function:"
     ]
    },
    {
     "cell_type": "code",
     "collapsed": false,
     "input": [
      "bold.compute_hrf()"
     ],
     "language": "python",
     "metadata": {},
     "outputs": [
      {
       "output_type": "stream",
       "stream": "stdout",
       "text": [
        "2013-08-28 17:56:08,203 - WARNING - tvb.simulator.common - Bold(hrf_kernel=FirstOrderVolterra(bound=False, value=None), variables_of_interest=[], period=2000.0, hrf_length=19200.0): Needs testing, debugging, etc...\n"
       ]
      }
     ],
     "prompt_number": 9
    },
    {
     "cell_type": "markdown",
     "metadata": {},
     "source": [
      "By default, the method **compute_hrf** gives the reflected version of the HRF. The product between this reflected HRF and the monitor's stock (convolution) yields the BOLD signal. The indexing [::-1] the HRF kernel as often seen in scientific publications. "
     ]
    },
    {
     "cell_type": "code",
     "collapsed": false,
     "input": [
      "plot(bold._stock_time, bold.hemodynamic_response_function.T[::-1]); ylabel('hrf');xlabel('time [sec]')\n",
      "plot(bold._stock_time[bold.hemodynamic_response_function.T[::-1].argmax()], bold.hemodynamic_response_function.T[::-1].max(), 'ko')"
     ],
     "language": "python",
     "metadata": {},
     "outputs": [
      {
       "metadata": {},
       "output_type": "pyout",
       "prompt_number": 10,
       "text": [
        "[<matplotlib.lines.Line2D at 0x10ce2c590>]"
       ]
      },
      {
       "metadata": {},
       "output_type": "display_data",
       "png": "[encoded data removed]",
       "text": [
        "<matplotlib.figure.Figure at 0x10ce2c650>"
       ]
      }
     ],
     "prompt_number": 10
    },
    {
     "cell_type": "code",
     "collapsed": false,
     "input": [
      "print 'Rising peak is around %1.2f seconds' % bold._stock_time[bold.hemodynamic_response_function.T[::-1].argmax()]"
     ],
     "language": "python",
     "metadata": {},
     "outputs": [
      {
       "output_type": "stream",
       "stream": "stdout",
       "text": [
        "Rising peak is around 0.80 seconds\n"
       ]
      }
     ],
     "prompt_number": 11
    },
    {
     "cell_type": "markdown",
     "metadata": {},
     "source": [
      "Exploring other HRF kernels\n",
      "---------------------------\n",
      "\n",
      " \n",
      "First, we will create new instances of the Bold monitor.\n",
      "\n",
      "Second, the equation defining the hrf kernel has to be changed. To achieve this we will make use of the predefined functions as Equations datatypes "
     ]
    },
    {
     "cell_type": "code",
     "collapsed": true,
     "input": [
      "import tvb.datatypes.equations as equations"
     ],
     "language": "python",
     "metadata": {},
     "outputs": [],
     "prompt_number": 12
    },
    {
     "cell_type": "markdown",
     "metadata": {},
     "source": [
      "* In [2] they used a simple gamma function"
     ]
    },
    {
     "cell_type": "code",
     "collapsed": false,
     "input": [
      "bold_1 = monitors.Bold(hrf_kernel=equations.Gamma())"
     ],
     "language": "python",
     "metadata": {},
     "outputs": [
      {
       "output_type": "stream",
       "stream": "stdout",
       "text": [
        "2013-08-28 17:56:32,211 - INFO - tvb.simulator.common - Bold(hrf_kernel, period, hrf_length, variables_of_interest): initing...\n"
       ]
      },
      {
       "output_type": "stream",
       "stream": "stdout",
       "text": [
        "2013-08-28 17:56:32,212 - WARNING - tvb.simulator.common - Bold(hrf_kernel=HRFKernelEquation(bound=True, value=FirstOrderVolterra(bound=False, value=None), name='hrf_kernel'), period=None, hrf_length=None, variables_of_interest=None): Needs testing, debugging, etc...\n"
       ]
      }
     ],
     "prompt_number": 13
    },
    {
     "cell_type": "markdown",
     "metadata": {},
     "source": [
      "* In [3] a difference of damped oscillators was fitted to functional data from the visual cortex."
     ]
    },
    {
     "cell_type": "code",
     "collapsed": false,
     "input": [
      "bold_2 = monitors.Bold(hrf_kernel=equations.DoubleExponential())"
     ],
     "language": "python",
     "metadata": {},
     "outputs": [
      {
       "output_type": "stream",
       "stream": "stdout",
       "text": [
        "2013-08-28 17:57:07,343 - INFO - tvb.simulator.common - Bold(hrf_kernel, period, hrf_length, variables_of_interest): initing...\n"
       ]
      },
      {
       "output_type": "stream",
       "stream": "stdout",
       "text": [
        "2013-08-28 17:57:07,343 - WARNING - tvb.simulator.common - Bold(hrf_kernel=HRFKernelEquation(bound=True, value=FirstOrderVolterra(bound=False, value=None), name='hrf_kernel'), period=None, hrf_length=None, variables_of_interest=None): Needs testing, debugging, etc...\n"
       ]
      }
     ],
     "prompt_number": 14
    },
    {
     "cell_type": "markdown",
     "metadata": {},
     "source": [
      "* In [4] an analytical function that can be modeled as a mixture of gammas was used. This kernel resembles the one used in the SPM software package."
     ]
    },
    {
     "cell_type": "code",
     "collapsed": false,
     "input": [
      "bold_3 = monitors.Bold(hrf_kernel=equations.MixtureOfGammas())"
     ],
     "language": "python",
     "metadata": {},
     "outputs": [
      {
       "output_type": "stream",
       "stream": "stdout",
       "text": [
        "2013-08-28 17:57:37,305 - INFO - tvb.simulator.common - Bold(hrf_kernel, period, hrf_length, variables_of_interest): initing...\n"
       ]
      },
      {
       "output_type": "stream",
       "stream": "stdout",
       "text": [
        "2013-08-28 17:57:37,305 - WARNING - tvb.simulator.common - Bold(hrf_kernel=HRFKernelEquation(bound=True, value=FirstOrderVolterra(bound=False, value=None), name='hrf_kernel'), period=None, hrf_length=None, variables_of_interest=None): Needs testing, debugging, etc...\n"
       ]
      }
     ],
     "prompt_number": 15
    },
    {
     "cell_type": "markdown",
     "metadata": {},
     "source": [
      "Now you can compute the HRFs for each monitor."
     ]
    },
    {
     "cell_type": "code",
     "collapsed": false,
     "input": [
      "bold_1.dt, bold_2.dt, bold_3.dt = 2**-4, 2**-4, 2**-4\n",
      "bold_1.compute_hrf()\n",
      "bold_2.compute_hrf()\n",
      "bold_3.compute_hrf()"
     ],
     "language": "python",
     "metadata": {},
     "outputs": [
      {
       "output_type": "stream",
       "stream": "stdout",
       "text": [
        "2013-08-28 17:57:41,442 - WARNING - tvb.simulator.common - Bold(hrf_kernel=Gamma(bound=False, value=None), variables_of_interest=[], period=2000.0, hrf_length=19200.0): Needs testing, debugging, etc...\n"
       ]
      },
      {
       "output_type": "stream",
       "stream": "stdout",
       "text": [
        "2013-08-28 17:57:41,446 - WARNING - tvb.simulator.common - Bold(hrf_kernel=DoubleExponential(bound=False, value=None), variables_of_interest=[], period=2000.0, hrf_length=19200.0): Needs testing, debugging, etc...\n"
       ]
      },
      {
       "output_type": "stream",
       "stream": "stdout",
       "text": [
        "2013-08-28 17:57:41,452 - WARNING - tvb.simulator.common - Bold(hrf_kernel=MixtureOfGammas(bound=False, value=None), variables_of_interest=[], period=2000.0, hrf_length=19200.0): Needs testing, debugging, etc...\n"
       ]
      }
     ],
     "prompt_number": 16
    },
    {
     "cell_type": "code",
     "collapsed": false,
     "input": [
      "plot(bold._stock_time, bold.hemodynamic_response_function.T[::-1], label='Volterra'); \n",
      "plot(bold_1._stock_time, bold_1.hemodynamic_response_function.T[::-1], label='Gamma' );\n",
      "plot(bold_2._stock_time, bold_2.hemodynamic_response_function.T[::-1], label='Diff of exponentials'); \n",
      "plot(bold_3._stock_time, bold_3.hemodynamic_response_function.T[::-1], label='Mixture of Gammas'); \n",
      "ylabel('hrf');xlabel('time [sec]')\n",
      "legend()"
     ],
     "language": "python",
     "metadata": {},
     "outputs": [
      {
       "metadata": {},
       "output_type": "pyout",
       "prompt_number": 17,
       "text": [
        "<matplotlib.legend.Legend at 0x1225e16d0>"
       ]
      },
      {
       "metadata": {},
       "output_type": "display_data",
       "png": "[encoded data removed]",
       "text": [
        "<matplotlib.figure.Figure at 0x10ce0be90>"
       ]
      }
     ],
     "prompt_number": 17
    },
    {
     "cell_type": "markdown",
     "metadata": {},
     "source": [
      "* [1] Friston, K., Mechelli, A., Turner, R., and Price, C., *Nonlinear Responses in fMRI: The Balloon Model, Volterra Kernels, and Other Hemodynamics*, NeuroImage, 12, 466 - 477, 2000. \n",
      "\n",
      "* [2] Geoffrey M. Boynton, Stephen A. Engel, Gary H. Glover and David J. Heeger (1996). *Linear Systems Analysis of Functional Magnetic Resonance Imaging in Human V1*. J Neurosci 16: 4207-4221\n",
      "\n",
      "* [3] Alex Polonsky, Randolph Blake, Jochen Braun and David J. Heeger (2000). *Neuronal activity in human primary visual cortex correlates with perception during binocular rivalry*. Nature Neuroscience 3: 1153-1159\n",
      "\n",
      "* [4] Glover, G. *Deconvolution of Impulse Response in Event-Related BOLD fMRI*. NeuroImage 9, 416-429, 1999.\n"
     ]
    }
   ],
   "metadata": {}
  }
 ]
}